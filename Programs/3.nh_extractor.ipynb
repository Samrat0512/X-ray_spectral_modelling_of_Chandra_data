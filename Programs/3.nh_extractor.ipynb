{
 "cells": [
  {
   "cell_type": "code",
   "execution_count": null,
   "id": "4db83127",
   "metadata": {},
   "outputs": [],
   "source": [
    "import heasoftpy as hsp\n",
    "import pandas as pd"
   ]
  },
  {
   "cell_type": "markdown",
   "id": "c3cc9031",
   "metadata": {},
   "source": [
    "## Works on those sources for which the spectra are extracted. So it uses and edit the file spec_info.csv"
   ]
  },
  {
   "cell_type": "code",
   "execution_count": null,
   "id": "8fcf2182",
   "metadata": {
    "scrolled": false
   },
   "outputs": [],
   "source": [
    "file = pd.read_csv('spec_info.csv')\n",
    "source_no = file['source_no.']\n",
    "nh_arr = [] \n",
    "for i in range(len(source_no)):\n",
    "    path = f'{source_no[i]}/'\n",
    "    with open(f'{path}details.txt') as det:\n",
    "        lines = det.readlines()\n",
    "        ra = lines[1][6:-1]\n",
    "        dec=lines[2][6:-1]\n",
    "        nh_res = hsp.nh(equinox = 2000, ra =ra, dec=dec)\n",
    "        nh = nh_res.__dict__['stdout'].split()[-1]\n",
    "        print(f'{source_no[i]}\\t{ra}\\t{dec}\\tnH : {nh}')\n",
    "        nh_arr.append(nh)\n",
    "        det.close()\n",
    "file.insert(2,'avg_galactic_nh', value = nh_arr, allow_duplicates=True)\n",
    "file.to_csv('spec_info.csv', index=False)"
   ]
  },
  {
   "cell_type": "code",
   "execution_count": null,
   "id": "81490653",
   "metadata": {},
   "outputs": [],
   "source": []
  }
 ],
 "metadata": {
  "kernelspec": {
   "display_name": "Python 3 (ipykernel)",
   "language": "python",
   "name": "python3"
  },
  "language_info": {
   "codemirror_mode": {
    "name": "ipython",
    "version": 3
   },
   "file_extension": ".py",
   "mimetype": "text/x-python",
   "name": "python",
   "nbconvert_exporter": "python",
   "pygments_lexer": "ipython3",
   "version": "3.10.8"
  },
  "vscode": {
   "interpreter": {
    "hash": "5da5aceac02c15ea9a1ab6e8f209dba080c06c2343707823140f6f6e7eb19a73"
   }
  }
 },
 "nbformat": 4,
 "nbformat_minor": 5
}
