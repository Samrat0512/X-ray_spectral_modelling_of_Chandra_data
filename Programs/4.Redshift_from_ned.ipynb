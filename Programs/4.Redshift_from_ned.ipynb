{
 "cells": [
  {
   "cell_type": "code",
   "execution_count": null,
   "id": "07bccfa1",
   "metadata": {},
   "outputs": [],
   "source": [
    "import astropy.units as u\n",
    "from astroquery.ipac.ned import Ned\n",
    "from astropy import coordinates\n",
    "import pandas as pd\n",
    "import numpy as np\n"
   ]
  },
  {
   "cell_type": "markdown",
   "id": "8f53c9e0",
   "metadata": {},
   "source": [
    "## Defining the function for redshift search"
   ]
  },
  {
   "cell_type": "code",
   "execution_count": null,
   "id": "e3037536",
   "metadata": {},
   "outputs": [],
   "source": [
    "def radial_search_redshift_in_ned(ra, dec, radius) :\n",
    "    # ra (array of shape [n]) in hour min sec\n",
    "    # dec (array of shape [n]) in degree arcmin arcsec\n",
    "    # radius(scalar float) in arcsec\n",
    "    \n",
    "    co = coordinates.SkyCoord(ra=ra, dec=dec, unit=(u.hourangle,u.deg))\n",
    "    result_table = Ned.query_region(co, radius=radius * u.arcsec, equinox='J2000')\n",
    "    redshift = result_table['Redshift']\n",
    "    return float(np.average(redshift))"
   ]
  },
  {
   "cell_type": "markdown",
   "id": "37efaceb",
   "metadata": {},
   "source": [
    "## Reading the RA-DEC of the sources"
   ]
  },
  {
   "cell_type": "code",
   "execution_count": null,
   "id": "9375c8c9",
   "metadata": {},
   "outputs": [],
   "source": [
    "#Reading the ra-dec\n",
    "source_list = pd.read_csv('spec_info.csv')\n",
    "source_no = source_list['source_no.']\n",
    "\n",
    "ra = []\n",
    "dec = []\n",
    "\n",
    "for i in range(len(source_no)):\n",
    "    det_path = source_no[i]\n",
    "    with open(f'{det_path}/details.txt') as details :\n",
    "        lines = details.readlines()\n",
    "        ra.append(lines[1][5:-1])\n",
    "        dec.append(lines[2][5:-1])\n",
    "\n",
    "\n",
    "#searching for redshift\n",
    "radius = float(input('Please enter the search radius(in arcsec) '))\n",
    "total_source = len(ra)\n",
    "\n",
    "z = []\n",
    "for i in range(total_source):\n",
    "    z.append(radial_search_redshift_in_ned(ra[i], dec[i], radius))\n",
    "\n",
    "source_list.insert(4, column='redshift', value = z)\n",
    "source_list.to_csv('spec_info.csv', index = False)\n"
   ]
  },
  {
   "cell_type": "code",
   "execution_count": null,
   "id": "7b2749e7",
   "metadata": {},
   "outputs": [],
   "source": []
  }
 ],
 "metadata": {
  "kernelspec": {
   "display_name": "Python 3 (ipykernel)",
   "language": "python",
   "name": "python3"
  },
  "language_info": {
   "codemirror_mode": {
    "name": "ipython",
    "version": 3
   },
   "file_extension": ".py",
   "mimetype": "text/x-python",
   "name": "python",
   "nbconvert_exporter": "python",
   "pygments_lexer": "ipython3",
   "version": "3.10.8"
  },
  "vscode": {
   "interpreter": {
    "hash": "5da5aceac02c15ea9a1ab6e8f209dba080c06c2343707823140f6f6e7eb19a73"
   }
  }
 },
 "nbformat": 4,
 "nbformat_minor": 5
}
