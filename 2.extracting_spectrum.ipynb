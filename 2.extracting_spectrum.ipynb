{
 "cells": [
  {
   "cell_type": "code",
   "execution_count": null,
   "metadata": {},
   "outputs": [],
   "source": [
    "import ciao_contrib.runtool as rt\n",
    "import astropy.io.fits as fits\n",
    "import numpy as np\n",
    "import pandas as pd\n",
    "import os"
   ]
  },
  {
   "cell_type": "code",
   "execution_count": null,
   "metadata": {},
   "outputs": [],
   "source": [
    "acis_src = pd.read_csv('acis_sources.csv')\n",
    "source_no = acis_src['source_no.']\n",
    "obsid = acis_src['obsid']\n",
    "spec_info = open('spec_info.csv','a')\n",
    "spec_info.write('source_no.,obsid,grouping\\n')\n",
    "spec_info.close()"
   ]
  },
  {
   "cell_type": "code",
   "execution_count": null,
   "metadata": {
    "scrolled": false
   },
   "outputs": [],
   "source": [
    "grp = 20\n",
    "for i in range(len(obsid)):\n",
    "    repro_path = f'{source_no[i]}/{obsid[i]}/repro/'\n",
    "    os.system(f'ls {repro_path}*repro_evt2.fits > {repro_path}repro_evt.txt')\n",
    "    evt_filename = open(f'{repro_path}repro_evt.txt').readlines()[0][len(repro_path):-1] #reprocessed event file nameevt_filename = ''\n",
    "    rt.specextract.punlearn()\n",
    "    rt.specextract.infile = f'{repro_path}{evt_filename}[sky=region({repro_path}source_region.reg)]'\n",
    "    rt.specextract.bkgfile = f'{repro_path}{evt_filename}[sky=region({repro_path}background_region.reg)]'\n",
    "    rt.specextract.outroot = f'{repro_path}spectrum/spec_'\n",
    "    rt.specextract.grouptype = 'NUM_CTS'\n",
    "    rt.specextract.clobber = 'YES'\n",
    "    rt.specextract.weight = 'no'\n",
    "    rt.specextract.correctpsf = 'yes'\n",
    "    rt.specextract.energy_wmap = '300:11000'\n",
    "    try :\n",
    "        rt.specextract(binspec = grp)\n",
    "        n_bins = np.max(fits.open(f'{source_no[i]}/{obsid[i]}/repro/spectrum/spec_grp.pi')[1].data['GRP_NUM'])\n",
    "        min_bins = 15\n",
    "        '''\n",
    "            If no of data points is less than {min_bins} then grouping no. will be reduced by 5 starting from 25 until no. of data points reach\n",
    "            {min_bins}. But grouping can be minimum at 15, if even with that data points count doesn't reach {min_bins} then grouping will be\n",
    "            done such that there is atleast one count in each bin. In that case c-stat should be used for modelling instead of chi_sq methond.\n",
    "            {min_bins} by default is chosen to be 25.\n",
    "        '''\n",
    "        while n_bins < min_bins and grp > 15:\n",
    "            grp = grp - 5\n",
    "            rt.specextract(binspec = grp)\n",
    "            n_bins = np.max(fits.open(f'{source_no[i]}/{obsid[i]}/repro/spectrum/spec_grp.pi')[1].data['GRP_NUM'])\n",
    "\n",
    "        if n_bins < min_bins :\n",
    "            grp = 1\n",
    "            rt.specextract(binspec = grp)\n",
    "        \n",
    "        n_bins = np.max(fits.open(f'{source_no[i]}/{obsid[i]}/repro/spectrum/spec_grp.pi')[1].data['GRP_NUM'])\n",
    "        print(f'{source_no[i]}\\t{obsid[i]}\\tNo. of bins = {n_bins} with grouping at {grp}')\n",
    "        spec_info = open('spec_info.csv','a')\n",
    "        spec_info.write(f'{source_no[i]},{obsid[i]},{grp}\\n')\n",
    "        spec_info.close()\n",
    "        \n",
    "    except :\n",
    "        prob_source = open('problematic_source.txt','a')\n",
    "        prob_source.write(f'{source_no[i]}\\t{obsid[i]}\\n')\n",
    "        prob_source.close()\n",
    "        print(f'{source_no[i]}\\t{obsid[i]}\\tproblems (spectrum not extracted)')\n",
    "        continue"
   ]
  },
  {
   "cell_type": "code",
   "execution_count": null,
   "metadata": {},
   "outputs": [],
   "source": []
  }
 ],
 "metadata": {
  "kernelspec": {
   "display_name": "Python 3 (ipykernel)",
   "language": "python",
   "name": "python3"
  },
  "language_info": {
   "codemirror_mode": {
    "name": "ipython",
    "version": 3
   },
   "file_extension": ".py",
   "mimetype": "text/x-python",
   "name": "python",
   "nbconvert_exporter": "python",
   "pygments_lexer": "ipython3",
   "version": "3.10.8"
  },
  "vscode": {
   "interpreter": {
    "hash": "c6cdd43ae0f79a58344e714a6a04dda34aafb320bdbb0b191823747afdc7f7cf"
   }
  }
 },
 "nbformat": 4,
 "nbformat_minor": 2
}
